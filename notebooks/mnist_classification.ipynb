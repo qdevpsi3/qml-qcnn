{
 "cells": [
  {
   "cell_type": "code",
   "execution_count": null,
   "metadata": {},
   "outputs": [],
   "source": [
    "# install/import quantum convolutional layer\n",
    "!pip install git+https://github.com/qdevpsi3/qml-qcnn.git\n",
    "import qcnn\n",
    "\n",
    "# install/import pytorch lightning package\n",
    "!pip install pytorch_lightning\n",
    "import pytorch_lightning as pl"
   ]
  },
  {
   "cell_type": "code",
   "execution_count": null,
   "metadata": {},
   "outputs": [],
   "source": [
    "import pytorch_lightning as pl\n",
    "import torch\n",
    "import torch.nn as nn\n",
    "import torch.nn.functional as F\n",
    "import torch.optim as optim\n",
    "import torchvision\n",
    "from pytorch_lightning.metrics.functional import accuracy"
   ]
  },
  {
   "cell_type": "code",
   "execution_count": null,
   "metadata": {},
   "outputs": [],
   "source": [
    "import warnings\n",
    "\n",
    "warnings.filterwarnings('ignore')"
   ]
  },
  {
   "cell_type": "markdown",
   "metadata": {},
   "source": [
    "# Experiment : Quantum Algorithms for Deep Convolutional Neural Networks\n",
    "\n",
    "First, we build the dataloader and create the model using *PyTorch Lightning*\n",
    "\n",
    "## Data Loaders\n",
    "---------"
   ]
  },
  {
   "cell_type": "code",
   "execution_count": null,
   "metadata": {},
   "outputs": [],
   "source": [
    "def get_loader(is_train,\n",
    "               batch_size,\n",
    "               folder='./',\n",
    "               dataset='mnist',\n",
    "               preprocess=((0.1307,), (0.3081,))):\n",
    "    assert dataset in ['mnist', 'fashion'\n",
    "                      ], \"dataset can take values in ['mnist','fashion']\"\n",
    "    if dataset == 'mnist':\n",
    "        dataset_class = torchvision.datasets.MNIST\n",
    "    elif dataset == 'fashion':\n",
    "        dataset_class = torchvision.datasets.FashionMNIST\n",
    "    if preprocess is not None:\n",
    "        transform = torchvision.transforms.Compose([\n",
    "            torchvision.transforms.ToTensor(),\n",
    "            torchvision.transforms.Normalize(*preprocess)\n",
    "        ])\n",
    "    else:\n",
    "        transform = torchvision.transforms.ToTensor()\n",
    "    dataset = dataset_class('{}/{}'.format(folder, dataset),\n",
    "                            train=is_train,\n",
    "                            download=True,\n",
    "                            transform=transform)\n",
    "    loader = torch.utils.data.DataLoader(dataset,\n",
    "                                         batch_size=batch_size,\n",
    "                                         shuffle=False,\n",
    "                                         num_workers=2)\n",
    "    return loader"
   ]
  },
  {
   "cell_type": "markdown",
   "metadata": {},
   "source": [
    "## Model"
   ]
  },
  {
   "cell_type": "code",
   "execution_count": null,
   "metadata": {},
   "outputs": [],
   "source": [
    "from qcnn import QuantumConv2d  # import convolutional layer\n",
    "\n",
    "class QuantumConvNet(pl.LightningModule):\n",
    "\n",
    "    def __init__(self, eps, cap, ratio, delta, lr, momentum, batch_size):\n",
    "        super(QuantumConvNet, self).__init__()\n",
    "        self.save_hyperparameters()\n",
    "        self.build_q_nn()\n",
    "\n",
    "    def build_q_nn(self):\n",
    "\n",
    "        # get quantum hyperparameters\n",
    "        eps = self.hparams.eps\n",
    "        cap = self.hparams.cap\n",
    "        ratio = self.hparams.ratio\n",
    "        delta = self.hparams.delta\n",
    "\n",
    "        # build neural network classifier\n",
    "        self.qonv1 = QuantumConv2d(1, 5, 7, eps, cap, ratio, delta, stride=1)\n",
    "        self.qonv2 = QuantumConv2d(5, 10, 7, eps, cap, ratio, delta, stride=1)\n",
    "        self.fc1 = nn.Linear(2560, 300)\n",
    "        self.fc2 = nn.Linear(300, 50)\n",
    "        self.fc3 = nn.Linear(50, 10)\n",
    "\n",
    "    def forward(self, x):\n",
    "        x = self.qonv1(x)\n",
    "        x = self.qonv2(x)\n",
    "        x = x.view(x.shape[0], -1)\n",
    "        x = F.relu(self.fc1(x))\n",
    "        x = F.relu(self.fc2(x))\n",
    "        x = F.log_softmax(self.fc3(x), dim=0)\n",
    "        return x\n",
    "\n",
    "    def training_step(self, batch, batch_idx):\n",
    "        x, y = batch\n",
    "        logits = self(x)\n",
    "        loss = F.nll_loss(logits, y)\n",
    "        self.log('train_loss', loss)\n",
    "        return loss\n",
    "\n",
    "    def validation_step(self, batch, batch_idx):\n",
    "        x, y = batch\n",
    "        logits = self(x)\n",
    "        loss = F.nll_loss(logits, y)\n",
    "        preds = torch.argmax(logits, dim=1)\n",
    "        acc = accuracy(preds, y)\n",
    "        self.log('val_loss', loss, prog_bar=True)\n",
    "        self.log('val_acc', acc, prog_bar=True)\n",
    "        return loss\n",
    "\n",
    "    def configure_optimizers(self):\n",
    "        lr, momentum = self.hparams.lr, self.hparams.momentum\n",
    "        optimizer = optim.SGD(self.parameters(), lr, momentum)\n",
    "        return optimizer\n",
    "\n",
    "    def train_dataloader(self):\n",
    "        batch_size = self.hparams.batch_size\n",
    "        return get_loader(is_train=True, batch_size=batch_size)\n",
    "\n",
    "    def val_dataloader(self):\n",
    "        batch_size = self.hparams.batch_size\n",
    "        return get_loader(is_train=False, batch_size=batch_size)"
   ]
  },
  {
   "cell_type": "markdown",
   "metadata": {},
   "source": [
    "## Hyperparameters\n",
    "-----------"
   ]
  },
  {
   "cell_type": "code",
   "execution_count": null,
   "metadata": {},
   "outputs": [],
   "source": [
    "eps = 0.01\n",
    "cap = 10.\n",
    "ratio = 0.5\n",
    "delta = 0.01\n",
    "lr = 0.01\n",
    "momentum = 0.5\n",
    "batch_size = 64"
   ]
  },
  {
   "cell_type": "markdown",
   "metadata": {},
   "source": [
    "## Train the model\n",
    "--------"
   ]
  },
  {
   "cell_type": "code",
   "execution_count": null,
   "metadata": {},
   "outputs": [],
   "source": [
    "model = QuantumConvNet(eps, cap, ratio, delta, lr, momentum, batch_size)\n",
    "use_gpu = int(torch.cuda.is_available())\n",
    "trainer = pl.Trainer(gpus=use_gpu, max_epochs=3, progress_bar_refresh_rate=20)\n",
    "trainer.fit(model)"
   ]
  },
  {
   "cell_type": "code",
   "execution_count": null,
   "metadata": {},
   "outputs": [],
   "source": [
    "# Start tensorboard.\n",
    "%load_ext tensorboard\n",
    "%tensorboard --logdir lightning_logs/"
   ]
  }
 ],
 "metadata": {
  "kernelspec": {
   "display_name": "QC_RL",
   "language": "python",
   "name": "qc_rl"
  },
  "language_info": {
   "codemirror_mode": {
    "name": "ipython",
    "version": 3
   },
   "file_extension": ".py",
   "mimetype": "text/x-python",
   "name": "python",
   "nbconvert_exporter": "python",
   "pygments_lexer": "ipython3",
   "version": "3.6.13"
  }
 },
 "nbformat": 4,
 "nbformat_minor": 4
}